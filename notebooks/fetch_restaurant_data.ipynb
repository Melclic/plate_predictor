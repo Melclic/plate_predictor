{
 "cells": [
  {
   "cell_type": "code",
   "execution_count": 19,
   "id": "7620ad35-f0f9-497d-8f07-424ee83063ee",
   "metadata": {},
   "outputs": [],
   "source": [
    "import pandas as pd\n",
    "import numpy as np\n",
    "import requests\n",
    "import json\n",
    "import time"
   ]
  },
  {
   "cell_type": "code",
   "execution_count": null,
   "id": "b9e4f7f6-c943-49e2-b982-0c9a98c48305",
   "metadata": {},
   "outputs": [],
   "source": []
  },
  {
   "cell_type": "code",
   "execution_count": null,
   "id": "75dcfca3-9671-4c1d-96df-c63eb210849a",
   "metadata": {},
   "outputs": [],
   "source": [
    "url = \"https://www.google.fr/maps/search/restaurant/@48.8592335,2.3176167,12.98z?entry=ttu&g_ep=\""
   ]
  },
  {
   "cell_type": "code",
   "execution_count": null,
   "id": "2d7088ed-bbb5-4bf5-8615-5f2f419b5fc3",
   "metadata": {},
   "outputs": [],
   "source": [
    "coordinates = ['48.8592335, 2.3176167']\n",
    "keywords = ['restaurant']\n",
    "api_key = 'EgoyMDI0MTAyOS4wIKXMDSoASAFQAw'\n",
    "radius = '10'"
   ]
  },
  {
   "cell_type": "code",
   "execution_count": null,
   "id": "ea0eb5fc-687f-4aa6-b0ef-cb786f2e109b",
   "metadata": {},
   "outputs": [],
   "source": []
  },
  {
   "cell_type": "code",
   "execution_count": null,
   "id": "3e59f151-a552-43a7-b54f-1d1fa43c523b",
   "metadata": {},
   "outputs": [],
   "source": [
    "url = 'https://maps.googleapis.com/maps/api/place/nearbysearch/json?location='+coordinate+'&radius='+str(radius)+'&keyword='+str(keyword)+'&key='+str(api_key)"
   ]
  },
  {
   "cell_type": "code",
   "execution_count": null,
   "id": "449a0ec3-0a38-41c0-b3fd-6d1b1edbb904",
   "metadata": {},
   "outputs": [],
   "source": [
    "\n",
    "final_data = []\n",
    "\n",
    "\n",
    "for coordinate in coordinates:\n",
    "    for keyword in keywords:\n",
    "        url = 'https://maps.googleapis.com/maps/api/place/nearbysearch/json?location='+coordinate+'&radius='+str(radius)+'&keyword='+str(keyword)+'&key='+str(api_key)\n",
    "        while True:\n",
    "print(url)\n",
    "respon = requests.get(url)\n",
    "jj = json.loads(respon.text)\n",
    "results = jj['results']\n",
    "for result in results:\n",
    "name = result['name']\n",
    "place_id = result ['place_id']\n",
    "lat = result['geometry']['location']['lat']\n",
    "lng = result['geometry']['location']['lng']\n",
    "rating = result['rating']\n",
    "types = result['types']\n",
    "vicinity = result['vicinity']\n",
    "data = [name, place_id, lat, lng, rating, types, vicinity]\n",
    "final_data.append(data)\n",
    "time.sleep(5)\n",
    "if 'next_page_token' not in jj:\n",
    "break\n",
    "else:\n",
    "next_page_token = jj['next_page_token']\n",
    "url = 'https://maps.googleapis.com/maps/api/place/nearbysearch/json?key='+str(api_key)+'&pagetoken='+str(next_page_token)\n",
    "labels = ['Place Name','Place ID', 'Latitude', 'Longitude', 'Types', 'Vicinity']\n",
    "export_dataframe_1_medium = pd.DataFrame.from_records(final_data, columns=labels)\n",
    "export_dataframe_1_medium.to_csv('export_dataframe_1_medium.csv')"
   ]
  },
  {
   "cell_type": "code",
   "execution_count": null,
   "id": "1febb921-795d-477f-b8fe-3b2e899220c1",
   "metadata": {},
   "outputs": [],
   "source": []
  },
  {
   "cell_type": "code",
   "execution_count": null,
   "id": "dc79d792-e1cd-41c2-ac3b-531015e21c7c",
   "metadata": {},
   "outputs": [],
   "source": []
  },
  {
   "cell_type": "code",
   "execution_count": 4,
   "id": "c8d5613e-0063-4bf5-9442-6e18017a4770",
   "metadata": {},
   "outputs": [],
   "source": [
    "df_b = pd.read_json('../data/yelp_dataset/yelp_academic_dataset_business.json', lines=True)"
   ]
  },
  {
   "cell_type": "code",
   "execution_count": 9,
   "id": "e49acfe0-995a-4863-81e7-96a70d14e949",
   "metadata": {},
   "outputs": [],
   "source": [
    "df_b_oakland = df_b[df_b.city=='Oakland']"
   ]
  },
  {
   "cell_type": "code",
   "execution_count": 17,
   "id": "e28eec3b-9e36-4507-a818-b02965856bed",
   "metadata": {},
   "outputs": [],
   "source": [
    "df_ca = df_b[df_b.state=='CA']"
   ]
  },
  {
   "cell_type": "code",
   "execution_count": null,
   "id": "6a3d7c99-8e4d-46ea-81df-c3ca57a1eb8c",
   "metadata": {},
   "outputs": [],
   "source": []
  },
  {
   "cell_type": "code",
   "execution_count": 18,
   "id": "07356ef4-06ca-49b3-a6f0-b0cb8caf8162",
   "metadata": {},
   "outputs": [
    {
     "data": {
      "text/plain": [
       "array(['Santa Barbara', 'Isla Vista', 'Goleta', 'Carpinteria',\n",
       "       'Montecito', 'santa Barbara', 'Truckee', 'Santa Barbara ',\n",
       "       'Ventura', 'Summerland', 'Port Hueneme', 'West Hill', 'Santa Ynez',\n",
       "       'Sparks', 'Kings Beach', 'Mission Canyon', 'Los Angeles', 'Tampa',\n",
       "       'Oxnard', 'Cerritos', 'Eagle', 'Reno', 'Meridian', 'Santa Clara',\n",
       "       'Valencia', 'Real Goleta', 'Santa Barbara,', 'Spring Hill',\n",
       "       'Aliso Viejo', 'SANTA BARBARA AP', 'South Lake Tahoe',\n",
       "       'Santa Barbara & Ventura Counties', 'Santa Barbra',\n",
       "       'SANTA BARBARA', 'Costa Mesa', 'Santa  Barbara', 'Salinas',\n",
       "       'Carpinteria ', 'Santa Maria'], dtype=object)"
      ]
     },
     "execution_count": 18,
     "metadata": {},
     "output_type": "execute_result"
    }
   ],
   "source": [
    "df_ca.city.unique()"
   ]
  },
  {
   "cell_type": "code",
   "execution_count": null,
   "id": "d9af4379-a5a7-4627-a4b7-d78077dac8b5",
   "metadata": {},
   "outputs": [],
   "source": []
  },
  {
   "cell_type": "code",
   "execution_count": 14,
   "id": "75159b2c-113a-4cb4-890c-7b3c406a38ed",
   "metadata": {},
   "outputs": [
    {
     "data": {
      "text/html": [
       "<div>\n",
       "<style scoped>\n",
       "    .dataframe tbody tr th:only-of-type {\n",
       "        vertical-align: middle;\n",
       "    }\n",
       "\n",
       "    .dataframe tbody tr th {\n",
       "        vertical-align: top;\n",
       "    }\n",
       "\n",
       "    .dataframe thead th {\n",
       "        text-align: right;\n",
       "    }\n",
       "</style>\n",
       "<table border=\"1\" class=\"dataframe\">\n",
       "  <thead>\n",
       "    <tr style=\"text-align: right;\">\n",
       "      <th></th>\n",
       "      <th>business_id</th>\n",
       "      <th>name</th>\n",
       "      <th>address</th>\n",
       "      <th>city</th>\n",
       "      <th>state</th>\n",
       "      <th>postal_code</th>\n",
       "      <th>latitude</th>\n",
       "      <th>longitude</th>\n",
       "      <th>stars</th>\n",
       "      <th>review_count</th>\n",
       "      <th>is_open</th>\n",
       "      <th>attributes</th>\n",
       "      <th>categories</th>\n",
       "      <th>hours</th>\n",
       "    </tr>\n",
       "  </thead>\n",
       "  <tbody>\n",
       "  </tbody>\n",
       "</table>\n",
       "</div>"
      ],
      "text/plain": [
       "Empty DataFrame\n",
       "Columns: [business_id, name, address, city, state, postal_code, latitude, longitude, stars, review_count, is_open, attributes, categories, hours]\n",
       "Index: []"
      ]
     },
     "execution_count": 14,
     "metadata": {},
     "output_type": "execute_result"
    }
   ],
   "source": [
    "df_b[[i.lower()=='oakland' for i in df_b.city]]"
   ]
  },
  {
   "cell_type": "code",
   "execution_count": null,
   "id": "e02af78b-7343-4334-b3da-2d87e0c4df18",
   "metadata": {},
   "outputs": [],
   "source": []
  }
 ],
 "metadata": {
  "kernelspec": {
   "display_name": "Python 3 (ipykernel)",
   "language": "python",
   "name": "python3"
  },
  "language_info": {
   "codemirror_mode": {
    "name": "ipython",
    "version": 3
   },
   "file_extension": ".py",
   "mimetype": "text/x-python",
   "name": "python",
   "nbconvert_exporter": "python",
   "pygments_lexer": "ipython3",
   "version": "3.11.10"
  }
 },
 "nbformat": 4,
 "nbformat_minor": 5
}
